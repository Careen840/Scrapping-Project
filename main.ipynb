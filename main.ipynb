{
 "cells": [
  {
   "cell_type": "code",
   "execution_count": null,
   "metadata": {},
   "outputs": [],
   "source": [
    "class JobSearch:\n",
    "    def _init_(self, data):\n",
    "        \"\"\"Parameter Initialization\"\"\"\n",
    "        self.email = data[\"email\"]\n",
    "        self.password = data[\"password\"]\n",
    "        self.keyword = data[\"keyword\"]\n",
    "        self.applications = []\n",
    "        self.driver= webdriver.Chrome()\n",
    "        \n",
    "        \n",
    "        "
   ]
  }
 ],
 "metadata": {
  "language_info": {
   "name": "python"
  }
 },
 "nbformat": 4,
 "nbformat_minor": 2
}
